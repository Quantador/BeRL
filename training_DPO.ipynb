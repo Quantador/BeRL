{
 "cells": [
  {
   "cell_type": "code",
   "execution_count": 21,
   "id": "af90b20c",
   "metadata": {},
   "outputs": [
    {
     "name": "stdout",
     "output_type": "stream",
     "text": [
      "The autoreload extension is already loaded. To reload it, use:\n",
      "  %reload_ext autoreload\n"
     ]
    },
    {
     "data": {
      "text/plain": [
       "device(type='cpu')"
      ]
     },
     "execution_count": 21,
     "metadata": {},
     "output_type": "execute_result"
    }
   ],
   "source": [
    "import gym\n",
    "import random, math\n",
    "import numpy as np\n",
    "from collections import deque\n",
    "import matplotlib.pyplot as plt\n",
    "plt.rcParams['figure.figsize'] = (16, 10)\n",
    "\n",
    "import torch\n",
    "import torch.nn as nn\n",
    "import torch.nn.functional as F\n",
    "import torch.optim as optim\n",
    "from torch.distributions import Categorical\n",
    "torch.manual_seed(0)\n",
    "\n",
    "import base64, io\n",
    "\n",
    "# For visualization\n",
    "from gym.wrappers.monitoring import video_recorder\n",
    "from IPython.display import HTML\n",
    "from IPython import display\n",
    "import glob\n",
    "from reinforce_rwd2go import reinforce_rwd2go, rollout, make_pref_dataset\n",
    "from utils import pref_save, pref_load\n",
    "\n",
    "from model import getPolicy\n",
    "import pickle\n",
    "\n",
    "%load_ext autoreload\n",
    "%autoreload 2\n",
    "device = torch.device(\"cuda:0\" if torch.cuda.is_available() else \"cpu\")\n",
    "device"
   ]
  },
  {
   "cell_type": "code",
   "execution_count": null,
   "id": "e894e71d",
   "metadata": {},
   "outputs": [
    {
     "name": "stdout",
     "output_type": "stream",
     "text": [
      "observation space size: (4,)\n",
      "action space size: 2\n"
     ]
    },
    {
     "name": "stderr",
     "output_type": "stream",
     "text": [
      "/Users/guillaumevitalis/miniconda3/envs/RLA2Final/lib/python3.9/site-packages/gym/envs/registration.py:593: UserWarning: \u001b[33mWARN: The environment CartPole-v0 is out of date. You should consider upgrading to version `v1`.\u001b[0m\n",
      "  logger.warn(\n",
      "/Users/guillaumevitalis/miniconda3/envs/RLA2Final/lib/python3.9/site-packages/gym/core.py:317: DeprecationWarning: \u001b[33mWARN: Initializing wrapper in old step API which returns one bool instead of two. It is recommended to set `new_step_api=True` to use new step API. This will be the default behaviour in future.\u001b[0m\n",
      "  deprecation(\n",
      "/Users/guillaumevitalis/miniconda3/envs/RLA2Final/lib/python3.9/site-packages/gym/wrappers/step_api_compatibility.py:39: DeprecationWarning: \u001b[33mWARN: Initializing environment in old step API which returns one bool instead of two. It is recommended to set `new_step_api=True` to use new step API. This will be the default behaviour in future.\u001b[0m\n",
      "  deprecation(\n"
     ]
    }
   ],
   "source": [
    "SEED=0\n",
    "torch.manual_seed(SEED)\n",
    "np.random.seed(SEED)\n",
    "random.seed(SEED)\n",
    "\n",
    "ENV_NAME = 'Pendulum-v1'\n",
    "\n",
    "env = gym.make(ENV_NAME)\n",
    "\n",
    "K = 1000"
   ]
  },
  {
   "cell_type": "code",
   "execution_count": 23,
   "id": "69ac5889",
   "metadata": {},
   "outputs": [],
   "source": [
    "policy1 = getPolicy(ENV_NAME=ENV_NAME).to(device)\n",
    "policy1.load_state_dict(torch.load(f\"policy1_{K}_{ENV_NAME}.pth\"))\n",
    "policy2 = getPolicy(ENV_NAME=ENV_NAME).to(device)\n",
    "policy2.load_state_dict(torch.load(f\"policy2_{K}_{ENV_NAME}.pth\"))\n",
    "\n",
    "pref_data = pref_load(f\"pref_data_{K}_{ENV_NAME}.pickle\")"
   ]
  },
  {
   "cell_type": "code",
   "execution_count": 24,
   "id": "ed57aa9e",
   "metadata": {},
   "outputs": [
    {
     "name": "stdout",
     "output_type": "stream",
     "text": [
      "Epoch 1/5 — avg DPO loss: 0.6932\n",
      "Epoch 2/5 — avg DPO loss: 0.5788\n",
      "Epoch 3/5 — avg DPO loss: 0.4967\n",
      "Epoch 4/5 — avg DPO loss: 0.4199\n",
      "Epoch 5/5 — avg DPO loss: 0.3517\n"
     ]
    }
   ],
   "source": [
    "import torch\n",
    "import torch.nn.functional as F\n",
    "import copy\n",
    "\n",
    "beta      = 5.0       # how strongly to enforce preferences\n",
    "lr        = 5e-4     # DPO learning rate\n",
    "epochs    = 5\n",
    "\n",
    "def copyPolicy(policy):\n",
    "    pi_ref = copy.deepcopy(policy).to(device)\n",
    "\n",
    "    for p in pi_ref.parameters():\n",
    "        p.requires_grad = False\n",
    "\n",
    "    return pi_ref\n",
    "\n",
    "policy = copy.deepcopy(policy2).to(device)\n",
    "pi_ref = copyPolicy(policy)\n",
    "\n",
    "optimizer = torch.optim.Adam(policy.parameters(), lr=lr)\n",
    "\n",
    "def trajectory_logprob(pi, states, actions):\n",
    "    logp = torch.tensor(0., device=device)\n",
    "    for s, a in zip(states, actions):\n",
    "        s_t = torch.tensor(s, dtype=torch.float32, device=device)\n",
    "        probs = pi(s_t.unsqueeze(0)).squeeze(0)      # shape [action_dim]\n",
    "        logp += torch.log(probs[a])\n",
    "    return logp\n",
    "\n",
    "for epoch in range(1, epochs+1):\n",
    "    total_loss = 0.0\n",
    "    \n",
    "    for s0, tau_plus, tau_minus in pref_data:\n",
    "        # trajectory log-probs\n",
    "        logp_pos = trajectory_logprob(policy,\n",
    "                                      tau_plus [\"states\"],\n",
    "                                      tau_plus [\"actions\"])\n",
    "        logp_neg = trajectory_logprob(policy,\n",
    "                                      tau_minus[\"states\"],\n",
    "                                      tau_minus[\"actions\"])\n",
    "\n",
    "        logp_ref_pos = trajectory_logprob(pi_ref,\n",
    "                                      tau_plus [\"states\"],\n",
    "                                      tau_plus [\"actions\"])\n",
    "\n",
    "        logp_ref_neg = trajectory_logprob(pi_ref,\n",
    "                                      tau_minus[\"states\"],\n",
    "                                      tau_minus[\"actions\"])\n",
    "        # DPO preference loss\n",
    "        diff   = beta * (logp_pos - logp_ref_pos) - beta * (logp_neg - logp_ref_neg)\n",
    "        total_loss += -F.logsigmoid(diff)\n",
    "    \n",
    "    total_loss = total_loss / len(pref_data)\n",
    "\n",
    "    optimizer.zero_grad()\n",
    "    total_loss.backward()\n",
    "    optimizer.step()\n",
    "    \n",
    "    print(f\"Epoch {epoch}/{epochs} — avg DPO loss: {total_loss:.4f}\")"
   ]
  },
  {
   "cell_type": "code",
   "execution_count": 25,
   "id": "50d17c8e",
   "metadata": {},
   "outputs": [
    {
     "name": "stdout",
     "output_type": "stream",
     "text": [
      "Evaluation over 100 episodes: mean return = 64.16\n"
     ]
    },
    {
     "name": "stderr",
     "output_type": "stream",
     "text": [
      "/Users/guillaumevitalis/miniconda3/envs/RLA2Final/lib/python3.9/site-packages/gym/utils/passive_env_checker.py:241: DeprecationWarning: `np.bool8` is a deprecated alias for `np.bool_`.  (Deprecated NumPy 1.24)\n",
      "  if not isinstance(terminated, (bool, np.bool8)):\n"
     ]
    }
   ],
   "source": [
    "returns = []\n",
    "eval_episodes = 100\n",
    "for ep in range(eval_episodes):\n",
    "    state, done, total_r = env.reset(), False, 0.0\n",
    "    while not done:\n",
    "        # choose greedy or stochastic—here greedy\n",
    "        with torch.no_grad():\n",
    "            s_t = torch.tensor(state, dtype=torch.float32, device=device)\n",
    "            probs = policy(s_t.unsqueeze(0)).squeeze(0)\n",
    "            action = torch.argmax(probs).item()\n",
    "        state, r, done, _ = env.step(action)\n",
    "        total_r += r\n",
    "    returns.append(total_r)\n",
    "\n",
    "mean_return = sum(returns) / len(returns)\n",
    "print(f\"Evaluation over {eval_episodes} episodes: mean return = {mean_return:.2f}\")"
   ]
  },
  {
   "cell_type": "code",
   "execution_count": 26,
   "id": "7b795606",
   "metadata": {},
   "outputs": [
    {
     "name": "stdout",
     "output_type": "stream",
     "text": [
      "Evaluation over 100 episodes: mean return = 59.85\n"
     ]
    }
   ],
   "source": [
    "returns = []\n",
    "eval_episodes = 100\n",
    "for ep in range(eval_episodes):\n",
    "    state, done, total_r = env.reset(), False, 0.0\n",
    "    while not done:\n",
    "        # choose greedy or stochastic—here greedy\n",
    "        with torch.no_grad():\n",
    "            s_t = torch.tensor(state, dtype=torch.float32, device=device)\n",
    "            probs = policy2(s_t.unsqueeze(0)).squeeze(0)\n",
    "            action = torch.argmax(probs).item()\n",
    "        state, r, done, _ = env.step(action)\n",
    "        total_r += r\n",
    "    returns.append(total_r)\n",
    "\n",
    "mean_return = sum(returns) / len(returns)\n",
    "print(f\"Evaluation over {eval_episodes} episodes: mean return = {mean_return:.2f}\")"
   ]
  },
  {
   "cell_type": "code",
   "execution_count": null,
   "id": "93f87af3",
   "metadata": {},
   "outputs": [],
   "source": []
  },
  {
   "cell_type": "code",
   "execution_count": null,
   "id": "5cbb9979",
   "metadata": {},
   "outputs": [],
   "source": []
  }
 ],
 "metadata": {
  "kernelspec": {
   "display_name": "RLA2Final",
   "language": "python",
   "name": "python3"
  },
  "language_info": {
   "codemirror_mode": {
    "name": "ipython",
    "version": 3
   },
   "file_extension": ".py",
   "mimetype": "text/x-python",
   "name": "python",
   "nbconvert_exporter": "python",
   "pygments_lexer": "ipython3",
   "version": "3.9.21"
  }
 },
 "nbformat": 4,
 "nbformat_minor": 5
}
