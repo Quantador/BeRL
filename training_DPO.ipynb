{
 "cells": [
  {
   "cell_type": "code",
   "execution_count": 13,
   "id": "af90b20c",
   "metadata": {},
   "outputs": [
    {
     "name": "stdout",
     "output_type": "stream",
     "text": [
      "The autoreload extension is already loaded. To reload it, use:\n",
      "  %reload_ext autoreload\n"
     ]
    },
    {
     "data": {
      "text/plain": [
       "device(type='cpu')"
      ]
     },
     "execution_count": 13,
     "metadata": {},
     "output_type": "execute_result"
    }
   ],
   "source": [
    "import gym\n",
    "import random, math\n",
    "import numpy as np\n",
    "from collections import deque\n",
    "import matplotlib.pyplot as plt\n",
    "plt.rcParams['figure.figsize'] = (16, 10)\n",
    "\n",
    "import torch\n",
    "import torch.nn as nn\n",
    "import torch.nn.functional as F\n",
    "import torch.optim as optim\n",
    "from torch.distributions import Categorical\n",
    "torch.manual_seed(0)\n",
    "\n",
    "import base64, io\n",
    "\n",
    "# For visualization\n",
    "from gym.wrappers.monitoring import video_recorder\n",
    "from IPython.display import HTML\n",
    "from IPython import display\n",
    "import glob\n",
    "from reinforce_rwd2go import reinforce_rwd2go, rollout, make_pref_dataset\n",
    "from utils import pref_save, pref_load\n",
    "\n",
    "from model import Policy\n",
    "import pickle\n",
    "\n",
    "%load_ext autoreload\n",
    "%autoreload 2\n",
    "device = torch.device(\"cuda:0\" if torch.cuda.is_available() else \"cpu\")\n",
    "device"
   ]
  },
  {
   "cell_type": "code",
   "execution_count": 14,
   "id": "e894e71d",
   "metadata": {},
   "outputs": [
    {
     "name": "stdout",
     "output_type": "stream",
     "text": [
      "observation space: Box([-4.8000002e+00 -3.4028235e+38 -4.1887903e-01 -3.4028235e+38], [4.8000002e+00 3.4028235e+38 4.1887903e-01 3.4028235e+38], (4,), float32)\n",
      "action space: Discrete(2)\n"
     ]
    }
   ],
   "source": [
    "K = 100\n",
    "SEED=0\n",
    "torch.manual_seed(SEED)\n",
    "np.random.seed(SEED)\n",
    "random.seed(SEED)\n",
    "\n",
    "env = gym.make('CartPole-v0')\n",
    "print('observation space:', env.observation_space)\n",
    "print('action space:', env.action_space)"
   ]
  },
  {
   "cell_type": "code",
   "execution_count": 15,
   "id": "69ac5889",
   "metadata": {},
   "outputs": [
    {
     "ename": "FileNotFoundError",
     "evalue": "[Errno 2] No such file or directory: 'pref_data_100'",
     "output_type": "error",
     "traceback": [
      "\u001b[0;31m---------------------------------------------------------------------------\u001b[0m",
      "\u001b[0;31mFileNotFoundError\u001b[0m                         Traceback (most recent call last)",
      "Cell \u001b[0;32mIn[15], line 6\u001b[0m\n\u001b[1;32m      3\u001b[0m policy2 \u001b[38;5;241m=\u001b[39m Policy()\u001b[38;5;241m.\u001b[39mto(device)\n\u001b[1;32m      4\u001b[0m policy2\u001b[38;5;241m.\u001b[39mload_state_dict(torch\u001b[38;5;241m.\u001b[39mload(\u001b[38;5;124mf\u001b[39m\u001b[38;5;124m\"\u001b[39m\u001b[38;5;124mpolicy2_\u001b[39m\u001b[38;5;132;01m{\u001b[39;00mK\u001b[38;5;132;01m}\u001b[39;00m\u001b[38;5;124m.pth\u001b[39m\u001b[38;5;124m\"\u001b[39m))\n\u001b[0;32m----> 6\u001b[0m pref_data \u001b[38;5;241m=\u001b[39m \u001b[43mpref_load\u001b[49m\u001b[43m(\u001b[49m\u001b[38;5;124;43mf\u001b[39;49m\u001b[38;5;124;43m\"\u001b[39;49m\u001b[38;5;124;43mpref_data_\u001b[39;49m\u001b[38;5;132;43;01m{\u001b[39;49;00m\u001b[43mK\u001b[49m\u001b[38;5;132;43;01m}\u001b[39;49;00m\u001b[38;5;124;43m\"\u001b[39;49m\u001b[43m)\u001b[49m\n",
      "File \u001b[0;32m~/Documents/EPFL/Master/MA2/RL/Project/utils.py:8\u001b[0m, in \u001b[0;36mpref_load\u001b[0;34m(name)\u001b[0m\n\u001b[1;32m      7\u001b[0m \u001b[38;5;28;01mdef\u001b[39;00m\u001b[38;5;250m \u001b[39m\u001b[38;5;21mpref_load\u001b[39m(name):\n\u001b[0;32m----> 8\u001b[0m     \u001b[38;5;28;01mwith\u001b[39;00m \u001b[38;5;28;43mopen\u001b[39;49m\u001b[43m(\u001b[49m\u001b[43mname\u001b[49m\u001b[43m,\u001b[49m\u001b[43m \u001b[49m\u001b[38;5;124;43m'\u001b[39;49m\u001b[38;5;124;43mrb\u001b[39;49m\u001b[38;5;124;43m'\u001b[39;49m\u001b[43m)\u001b[49m \u001b[38;5;28;01mas\u001b[39;00m f:\n\u001b[1;32m      9\u001b[0m         \u001b[38;5;28;01mreturn\u001b[39;00m pickle\u001b[38;5;241m.\u001b[39mload(f)\n",
      "\u001b[0;31mFileNotFoundError\u001b[0m: [Errno 2] No such file or directory: 'pref_data_100'"
     ]
    }
   ],
   "source": [
    "policy1 = Policy().to(device)\n",
    "policy1.load_state_dict(torch.load(f\"policy1_{K}.pth\"))\n",
    "policy2 = Policy().to(device)\n",
    "policy2.load_state_dict(torch.load(f\"policy2_{K}.pth\"))\n",
    "\n",
    "pref_data = pref_load(f\"pref_data_{K}\")"
   ]
  },
  {
   "cell_type": "code",
   "execution_count": 16,
   "id": "ed57aa9e",
   "metadata": {},
   "outputs": [
    {
     "name": "stdout",
     "output_type": "stream",
     "text": [
      "Epoch 1/1 — avg DPO loss: 0.6932\n"
     ]
    }
   ],
   "source": [
    "import torch\n",
    "import torch.nn.functional as F\n",
    "import copy\n",
    "\n",
    "beta      = 5.0       # how strongly to enforce preferences\n",
    "lr        = 5e-3     # DPO learning rate\n",
    "epochs    = 1\n",
    "\n",
    "def copyPolicy(policy):\n",
    "    pi_ref = copy.deepcopy(policy).to(device)\n",
    "\n",
    "    for p in pi_ref.parameters():\n",
    "        p.requires_grad = False\n",
    "\n",
    "    return pi_ref\n",
    "\n",
    "policy = copy.deepcopy(policy2).to(device)\n",
    "pi_ref = copyPolicy(policy)\n",
    "\n",
    "optimizer = torch.optim.Adam(policy.parameters(), lr=lr)\n",
    "\n",
    "def trajectory_logprob(pi, states, actions):\n",
    "    logp = torch.tensor(0., device=device)\n",
    "    for s, a in zip(states, actions):\n",
    "        s_t = torch.tensor(s, dtype=torch.float32, device=device)\n",
    "        probs = pi(s_t.unsqueeze(0)).squeeze(0)      # shape [action_dim]\n",
    "        logp += torch.log(probs[a])\n",
    "    return logp\n",
    "\n",
    "for epoch in range(1, epochs+1):\n",
    "    total_loss = 0.0\n",
    "    \n",
    "    for s0, tau_plus, tau_minus in pref_data:\n",
    "        # trajectory log-probs\n",
    "        logp_pos = trajectory_logprob(policy,\n",
    "                                      tau_plus [\"states\"],\n",
    "                                      tau_plus [\"actions\"])\n",
    "        logp_neg = trajectory_logprob(policy,\n",
    "                                      tau_minus[\"states\"],\n",
    "                                      tau_minus[\"actions\"])\n",
    "\n",
    "        logp_ref_pos = trajectory_logprob(pi_ref,\n",
    "                                      tau_plus [\"states\"],\n",
    "                                      tau_plus [\"actions\"])\n",
    "\n",
    "        logp_ref_neg = trajectory_logprob(pi_ref,\n",
    "                                      tau_minus[\"states\"],\n",
    "                                      tau_minus[\"actions\"])\n",
    "        # DPO preference loss\n",
    "        diff   = beta * (logp_pos - logp_ref_pos) - beta * (logp_neg - logp_ref_neg)\n",
    "        total_loss += -F.logsigmoid(diff)\n",
    "    \n",
    "    total_loss = total_loss / len(pref_data)\n",
    "\n",
    "    optimizer.zero_grad()\n",
    "    total_loss.backward()\n",
    "    optimizer.step()\n",
    "    \n",
    "    print(f\"Epoch {epoch}/{epochs} — avg DPO loss: {total_loss:.4f}\")"
   ]
  },
  {
   "cell_type": "code",
   "execution_count": 17,
   "id": "50d17c8e",
   "metadata": {},
   "outputs": [
    {
     "name": "stdout",
     "output_type": "stream",
     "text": [
      "Evaluation over 100 episodes: mean return = 165.62\n"
     ]
    }
   ],
   "source": [
    "returns = []\n",
    "eval_episodes = 100\n",
    "for ep in range(eval_episodes):\n",
    "    state, done, total_r = env.reset(), False, 0.0\n",
    "    while not done:\n",
    "        # choose greedy or stochastic—here greedy\n",
    "        with torch.no_grad():\n",
    "            s_t = torch.tensor(state, dtype=torch.float32, device=device)\n",
    "            probs = policy(s_t.unsqueeze(0)).squeeze(0)\n",
    "            action = torch.argmax(probs).item()\n",
    "        state, r, done, _ = env.step(action)\n",
    "        total_r += r\n",
    "    returns.append(total_r)\n",
    "\n",
    "mean_return = sum(returns) / len(returns)\n",
    "print(f\"Evaluation over {eval_episodes} episodes: mean return = {mean_return:.2f}\")"
   ]
  },
  {
   "cell_type": "code",
   "execution_count": 18,
   "id": "7b795606",
   "metadata": {},
   "outputs": [
    {
     "name": "stdout",
     "output_type": "stream",
     "text": [
      "Evaluation over 100 episodes: mean return = 151.09\n"
     ]
    }
   ],
   "source": [
    "returns = []\n",
    "eval_episodes = 100\n",
    "for ep in range(eval_episodes):\n",
    "    state, done, total_r = env.reset(), False, 0.0\n",
    "    while not done:\n",
    "        # choose greedy or stochastic—here greedy\n",
    "        with torch.no_grad():\n",
    "            s_t = torch.tensor(state, dtype=torch.float32, device=device)\n",
    "            probs = policy2(s_t.unsqueeze(0)).squeeze(0)\n",
    "            action = torch.argmax(probs).item()\n",
    "        state, r, done, _ = env.step(action)\n",
    "        total_r += r\n",
    "    returns.append(total_r)\n",
    "\n",
    "mean_return = sum(returns) / len(returns)\n",
    "print(f\"Evaluation over {eval_episodes} episodes: mean return = {mean_return:.2f}\")"
   ]
  },
  {
   "cell_type": "code",
   "execution_count": null,
   "id": "93f87af3",
   "metadata": {},
   "outputs": [],
   "source": []
  }
 ],
 "metadata": {
  "kernelspec": {
   "display_name": "RLA2Final",
   "language": "python",
   "name": "python3"
  },
  "language_info": {
   "codemirror_mode": {
    "name": "ipython",
    "version": 3
   },
   "file_extension": ".py",
   "mimetype": "text/x-python",
   "name": "python",
   "nbconvert_exporter": "python",
   "pygments_lexer": "ipython3",
   "version": "3.9.21"
  }
 },
 "nbformat": 4,
 "nbformat_minor": 5
}
