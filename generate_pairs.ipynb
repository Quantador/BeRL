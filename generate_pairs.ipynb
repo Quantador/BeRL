{
 "cells": [
  {
   "cell_type": "code",
   "execution_count": 1,
   "id": "9709e6bd-2dae-4932-9ea3-1f38923550d8",
   "metadata": {},
   "outputs": [
    {
     "data": {
      "text/plain": [
       "device(type='cpu')"
      ]
     },
     "execution_count": 1,
     "metadata": {},
     "output_type": "execute_result"
    }
   ],
   "source": [
    "import gym\n",
    "import random, math\n",
    "import numpy as np\n",
    "from collections import deque\n",
    "import matplotlib.pyplot as plt\n",
    "plt.rcParams['figure.figsize'] = (16, 10)\n",
    "\n",
    "import torch\n",
    "import torch.nn as nn\n",
    "import torch.nn.functional as F\n",
    "import torch.optim as optim\n",
    "from torch.distributions import Categorical\n",
    "torch.manual_seed(0)\n",
    "\n",
    "import base64, io\n",
    "\n",
    "# For visualization\n",
    "from gym.wrappers.monitoring import video_recorder\n",
    "from IPython.display import HTML\n",
    "from IPython import display\n",
    "import glob\n",
    "from reinforce_rwd2go import reinforce_rwd2go, rollout, make_pref_dataset\n",
    "from utils import pref_save, pref_load\n",
    "\n",
    "from model import Policy\n",
    "import pickle\n",
    "\n",
    "%load_ext autoreload\n",
    "%autoreload 2\n",
    "\n",
    "device = torch.device(\"cuda:0\" if torch.cuda.is_available() else \"cpu\")\n",
    "device"
   ]
  },
  {
   "cell_type": "code",
   "execution_count": null,
   "id": "c450160f-f2d0-4cea-8f50-9a225ca96ce7",
   "metadata": {},
   "outputs": [
    {
     "name": "stdout",
     "output_type": "stream",
     "text": [
      "observation space: Box([-4.8000002e+00 -3.4028235e+38 -4.1887903e-01 -3.4028235e+38], [4.8000002e+00 3.4028235e+38 4.1887903e-01 3.4028235e+38], (4,), float32)\n",
      "action space: Discrete(2)\n"
     ]
    },
    {
     "name": "stderr",
     "output_type": "stream",
     "text": [
      "/Users/guillaumevitalis/miniconda3/envs/RLA2Final/lib/python3.9/site-packages/gym/envs/registration.py:593: UserWarning: \u001b[33mWARN: The environment CartPole-v0 is out of date. You should consider upgrading to version `v1`.\u001b[0m\n",
      "  logger.warn(\n",
      "/Users/guillaumevitalis/miniconda3/envs/RLA2Final/lib/python3.9/site-packages/gym/core.py:317: DeprecationWarning: \u001b[33mWARN: Initializing wrapper in old step API which returns one bool instead of two. It is recommended to set `new_step_api=True` to use new step API. This will be the default behaviour in future.\u001b[0m\n",
      "  deprecation(\n",
      "/Users/guillaumevitalis/miniconda3/envs/RLA2Final/lib/python3.9/site-packages/gym/wrappers/step_api_compatibility.py:39: DeprecationWarning: \u001b[33mWARN: Initializing environment in old step API which returns one bool instead of two. It is recommended to set `new_step_api=True` to use new step API. This will be the default behaviour in future.\u001b[0m\n",
      "  deprecation(\n"
     ]
    }
   ],
   "source": [
    "SEED=0\n",
    "torch.manual_seed(SEED)\n",
    "np.random.seed(SEED)\n",
    "random.seed(SEED)\n",
    "\n",
    "ENV_NAME = 'CartPole-v0'\n",
    "\n",
    "env = gym.make(ENV_NAME)\n",
    "print('observation space:', env.observation_space)\n",
    "print('action space:', env.action_space)"
   ]
  },
  {
   "cell_type": "code",
   "execution_count": 3,
   "id": "e11e45bf-5fdc-4924-bba2-d57c5e87d665",
   "metadata": {},
   "outputs": [
    {
     "name": "stdout",
     "output_type": "stream",
     "text": [
      "=== Training π₁ ===\n"
     ]
    },
    {
     "name": "stderr",
     "output_type": "stream",
     "text": [
      "/Users/guillaumevitalis/miniconda3/envs/RLA2Final/lib/python3.9/site-packages/gym/utils/passive_env_checker.py:241: DeprecationWarning: `np.bool8` is a deprecated alias for `np.bool_`.  (Deprecated NumPy 1.24)\n",
      "  if not isinstance(terminated, (bool, np.bool8)):\n"
     ]
    },
    {
     "name": "stdout",
     "output_type": "stream",
     "text": [
      "Ep 100\tavg100: 84.39\n",
      "Ep 200\tavg100: 172.06\n",
      "Ep 300\tavg100: 160.48\n",
      "Ep 400\tavg100: 192.53\n",
      "Solved 195 at ep 404 (avg=195.4)\n",
      "Final π₁ avg100: 195.36\n",
      "\n"
     ]
    }
   ],
   "source": [
    "policy1 = Policy().to(device)\n",
    "opt1    = optim.Adam(policy1.parameters(), lr=1e-2)\n",
    "\n",
    "print(\"=== Training π₁ ===\")\n",
    "scores1 = reinforce_rwd2go(env, policy1, opt1, env,\n",
    "                            n_episodes=2000, print_every=100,\n",
    "                            target_reward=None, near_max_reward=195)\n",
    "avg1 = np.mean(scores1[-100:])\n",
    "print(f\"Final π₁ avg100: {avg1:.2f}\\n\")"
   ]
  },
  {
   "cell_type": "code",
   "execution_count": 4,
   "id": "97d0b847-fa94-4205-9790-895e2b2a1ee2",
   "metadata": {},
   "outputs": [
    {
     "name": "stdout",
     "output_type": "stream",
     "text": [
      "=== Training π₂ ===\n",
      "Ep 100\tavg100: 56.20\n",
      "Reached target 97.7 at ep 104 (avg=59.0)\n",
      "Final π₂ avg100: 58.99\n",
      "\n"
     ]
    }
   ],
   "source": [
    "policy2 = Policy().to(device)\n",
    "opt2    = optim.Adam(policy2.parameters(), lr=1e-2)\n",
    "half_target = avg1 / 2.0\n",
    "\n",
    "print(\"=== Training π₂ ===\")\n",
    "scores2 = reinforce_rwd2go(env, policy2, opt2, env,\n",
    "                            n_episodes=2000, print_every=100,\n",
    "                            target_reward=half_target, near_max_reward=195)\n",
    "avg2 = np.mean(scores2[-100:])\n",
    "print(f\"Final π₂ avg100: {avg2:.2f}\\n\")"
   ]
  },
  {
   "cell_type": "code",
   "execution_count": null,
   "id": "3f3a1d41-bc28-4f2b-92d5-cfe7f32a56b0",
   "metadata": {},
   "outputs": [
    {
     "name": "stdout",
     "output_type": "stream",
     "text": [
      "Generating 1000 preference pairs …\n",
      "Mean p1 200.0\n",
      "Mean p2 100.015\n",
      "Finished\n"
     ]
    }
   ],
   "source": [
    "K = 1000\n",
    "print(f\"Generating {K} preference pairs …\")\n",
    "pref_data = make_pref_dataset(policy1, policy2, env, K)\n",
    "pref_save(pref_data, f\"pref_data_{K}_{ENV_NAME}.pickle\")\n",
    "print(\"Finished\")\n",
    "\n",
    "torch.save(policy1.state_dict(), f\"policy1_{K}_{ENV_NAME}.pth\")\n",
    "torch.save(policy2.state_dict(), f\"policy2_{K}_{ENV_NAME}.pth\")"
   ]
  },
  {
   "cell_type": "code",
   "execution_count": null,
   "id": "85722a5c",
   "metadata": {},
   "outputs": [],
   "source": []
  }
 ],
 "metadata": {
  "kernelspec": {
   "display_name": "RLA2Final",
   "language": "python",
   "name": "python3"
  },
  "language_info": {
   "codemirror_mode": {
    "name": "ipython",
    "version": 3
   },
   "file_extension": ".py",
   "mimetype": "text/x-python",
   "name": "python",
   "nbconvert_exporter": "python",
   "pygments_lexer": "ipython3",
   "version": "3.9.21"
  }
 },
 "nbformat": 4,
 "nbformat_minor": 5
}
