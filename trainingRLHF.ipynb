{
 "cells": [
  {
   "cell_type": "code",
   "execution_count": 1,
   "id": "4da3b598",
   "metadata": {},
   "outputs": [
    {
     "data": {
      "text/plain": [
       "device(type='cpu')"
      ]
     },
     "execution_count": 1,
     "metadata": {},
     "output_type": "execute_result"
    }
   ],
   "source": [
    "import gym\n",
    "import random, math\n",
    "import numpy as np\n",
    "from collections import deque\n",
    "import matplotlib.pyplot as plt\n",
    "plt.rcParams['figure.figsize'] = (16, 10)\n",
    "\n",
    "import torch\n",
    "import torch.nn as nn\n",
    "import torch.nn.functional as F\n",
    "import torch.optim as optim\n",
    "from torch.distributions import Categorical\n",
    "torch.manual_seed(0)\n",
    "\n",
    "import base64, io\n",
    "\n",
    "# For visualization\n",
    "from gym.wrappers.monitoring import video_recorder\n",
    "from IPython.display import HTML\n",
    "from IPython import display\n",
    "import glob\n",
    "from reinforce_PPORLHF import reinforce_rwd2go_PPO_RLHF\n",
    "from utils import pref_save, pref_load\n",
    "\n",
    "from model import Policy\n",
    "import pickle\n",
    "\n",
    "%load_ext autoreload\n",
    "%autoreload 2\n",
    "device = torch.device(\"cuda:0\" if torch.cuda.is_available() else \"cpu\")\n",
    "device"
   ]
  },
  {
   "cell_type": "code",
   "execution_count": 2,
   "id": "197cc64c",
   "metadata": {},
   "outputs": [
    {
     "name": "stdout",
     "output_type": "stream",
     "text": [
      "observation space: Box([-4.8000002e+00 -3.4028235e+38 -4.1887903e-01 -3.4028235e+38], [4.8000002e+00 3.4028235e+38 4.1887903e-01 3.4028235e+38], (4,), float32)\n",
      "action space: Discrete(2)\n"
     ]
    },
    {
     "name": "stderr",
     "output_type": "stream",
     "text": [
      "/Users/guillaumevitalis/miniconda3/envs/RLA2Final/lib/python3.9/site-packages/gym/envs/registration.py:593: UserWarning: \u001b[33mWARN: The environment CartPole-v0 is out of date. You should consider upgrading to version `v1`.\u001b[0m\n",
      "  logger.warn(\n",
      "/Users/guillaumevitalis/miniconda3/envs/RLA2Final/lib/python3.9/site-packages/gym/core.py:317: DeprecationWarning: \u001b[33mWARN: Initializing wrapper in old step API which returns one bool instead of two. It is recommended to set `new_step_api=True` to use new step API. This will be the default behaviour in future.\u001b[0m\n",
      "  deprecation(\n",
      "/Users/guillaumevitalis/miniconda3/envs/RLA2Final/lib/python3.9/site-packages/gym/wrappers/step_api_compatibility.py:39: DeprecationWarning: \u001b[33mWARN: Initializing environment in old step API which returns one bool instead of two. It is recommended to set `new_step_api=True` to use new step API. This will be the default behaviour in future.\u001b[0m\n",
      "  deprecation(\n"
     ]
    }
   ],
   "source": [
    "K = 1000\n",
    "SEED=0\n",
    "torch.manual_seed(SEED)\n",
    "np.random.seed(SEED)\n",
    "random.seed(SEED)\n",
    "\n",
    "env = gym.make('CartPole-v0')\n",
    "print('observation space:', env.observation_space)\n",
    "print('action space:', env.action_space)"
   ]
  },
  {
   "cell_type": "code",
   "execution_count": 3,
   "id": "f89fa4cf",
   "metadata": {},
   "outputs": [],
   "source": [
    "policy1 = Policy().to(device)\n",
    "policy1.load_state_dict(torch.load(f\"policy1_{K}.pth\"))\n",
    "policy2 = Policy().to(device)\n",
    "policy2.load_state_dict(torch.load(f\"policy2_{K}.pth\"))\n",
    "\n",
    "pref_data = pref_load(f\"pref_data_{K}.pickle\")"
   ]
  },
  {
   "cell_type": "code",
   "execution_count": 4,
   "id": "626f6b07",
   "metadata": {},
   "outputs": [],
   "source": [
    "class RewardModel(nn.Module):\n",
    "    def __init__(self, state_size=4, action_size=1, hidden_size=32):\n",
    "        super(RewardModel, self).__init__()\n",
    "        self.fc1 = nn.Linear(state_size + action_size, hidden_size)\n",
    "        self.fc2 = nn.Linear(hidden_size, 1)\n",
    "\n",
    "    def forward(self, state):\n",
    "        x = F.relu(self.fc1(state))\n",
    "        x = self.fc2(x)\n",
    "        # we just consider 1 dimensional probability of action\n",
    "        return x\n",
    "\n",
    "    def predict_reward(self, state, action):\n",
    "        state = state\n",
    "        action = torch.tensor(action).reshape(1,1)  \n",
    "        \n",
    "        state_action = torch.cat((state, action), dim=1)\n",
    "        reward = self.forward(state_action).cpu()\n",
    "        return reward"
   ]
  },
  {
   "cell_type": "code",
   "execution_count": 5,
   "id": "b9156624",
   "metadata": {},
   "outputs": [
    {
     "name": "stdout",
     "output_type": "stream",
     "text": [
      "Epoch 1/10 — avg loss: 2.2837\n",
      "Epoch 2/10 — avg loss: 1.1696\n",
      "Epoch 3/10 — avg loss: 0.4279\n",
      "Epoch 4/10 — avg loss: 0.0989\n",
      "Epoch 5/10 — avg loss: 0.0177\n",
      "Epoch 6/10 — avg loss: 0.0032\n",
      "Epoch 7/10 — avg loss: 0.0005\n",
      "Epoch 8/10 — avg loss: 0.0001\n",
      "Epoch 9/10 — avg loss: 0.0000\n",
      "Epoch 10/10 — avg loss: 0.0000\n"
     ]
    }
   ],
   "source": [
    "import torch\n",
    "import torch.nn.functional as F\n",
    "import copy\n",
    "\n",
    "lr        = 3e-3\n",
    "epochs    = 10\n",
    "\n",
    "reward_model = RewardModel(state_size=4, action_size=1)\n",
    "\n",
    "optimizer = torch.optim.Adam(reward_model.parameters(), lr=lr)\n",
    "\n",
    "def trajectory_reward(reward_model, states, actions):\n",
    "    total_reward = torch.tensor(0., device=device)\n",
    "    for s, a in zip(states, actions):\n",
    "        s_t = torch.tensor(s, dtype=torch.float32, device=device)\n",
    "        reward = reward_model.predict_reward(s_t.unsqueeze(0), a).squeeze(0)\n",
    "        total_reward += reward.squeeze(0)\n",
    "    return total_reward\n",
    "\n",
    "for epoch in range(1, epochs+1):\n",
    "    total_loss = 0.0\n",
    "    \n",
    "    for s0, tau_plus, tau_minus in pref_data:\n",
    "\n",
    "        reward_plus = trajectory_reward(reward_model, tau_plus[\"states\"], tau_plus[\"actions\"])\n",
    "        reward_minus = trajectory_reward(reward_model, tau_minus[\"states\"], tau_minus[\"actions\"])\n",
    "        total_loss += - torch.log(torch.exp(reward_plus) / (torch.exp(reward_minus) + torch.exp(reward_plus)))\n",
    "\n",
    "    optimizer.zero_grad()\n",
    "    total_loss.backward()\n",
    "    optimizer.step()\n",
    "    \n",
    "    avg_loss = total_loss / len(pref_data)\n",
    "    \n",
    "    print(f\"Epoch {epoch}/{epochs} — avg loss: {avg_loss:.4f}\")"
   ]
  },
  {
   "cell_type": "code",
   "execution_count": 8,
   "id": "81224dad",
   "metadata": {},
   "outputs": [
    {
     "name": "stdout",
     "output_type": "stream",
     "text": [
      "Ep 100\tavg100: 74.59\n",
      "Ep 200\tavg100: 57.95\n",
      "Ep 300\tavg100: 60.48\n",
      "Ep 400\tavg100: 59.20\n",
      "Ep 500\tavg100: 70.27\n",
      "Ep 600\tavg100: 109.54\n",
      "Ep 700\tavg100: 109.53\n",
      "Ep 800\tavg100: 120.39\n",
      "Ep 900\tavg100: 131.27\n",
      "Ep 1000\tavg100: 153.30\n",
      "Ep 1100\tavg100: 175.48\n",
      "Ep 1200\tavg100: 193.39\n",
      "Ep 1300\tavg100: 189.43\n",
      "Ep 1400\tavg100: 188.45\n",
      "Ep 1500\tavg100: 191.20\n",
      "Ep 1600\tavg100: 181.73\n",
      "Ep 1700\tavg100: 161.46\n",
      "Ep 1800\tavg100: 196.53\n",
      "Ep 1900\tavg100: 198.64\n"
     ]
    }
   ],
   "source": [
    "policy2 = Policy().to(device)\n",
    "policy2.load_state_dict(torch.load(f\"policy2_{K}.pth\"))\n",
    "opt1    = optim.Adam(policy2.parameters(), lr=1e-3)\n",
    "reward_model.eval()\n",
    "reinforce_rwd2go_PPO_RLHF(env, policy2, opt1, reward_model, n_episodes=2000);"
   ]
  },
  {
   "cell_type": "code",
   "execution_count": 7,
   "id": "583481ec",
   "metadata": {},
   "outputs": [
    {
     "name": "stdout",
     "output_type": "stream",
     "text": [
      "Evaluation over 100 episodes: mean return = 150.02\n"
     ]
    }
   ],
   "source": [
    "returns = []\n",
    "eval_episodes = 100\n",
    "for ep in range(eval_episodes):\n",
    "    state, done, total_r = env.reset(), False, 0.0\n",
    "    while not done:\n",
    "        # choose greedy or stochastic—here greedy\n",
    "        with torch.no_grad():\n",
    "            s_t = torch.tensor(state, dtype=torch.float32, device=device)\n",
    "            probs = policy2(s_t.unsqueeze(0)).squeeze(0)\n",
    "            action = torch.argmax(probs).item()\n",
    "        state, r, done, _ = env.step(action)\n",
    "        total_r += r\n",
    "    returns.append(total_r)\n",
    "\n",
    "mean_return = sum(returns) / len(returns)\n",
    "print(f\"Evaluation over {eval_episodes} episodes: mean return = {mean_return:.2f}\")"
   ]
  },
  {
   "cell_type": "code",
   "execution_count": null,
   "id": "7d8104f9",
   "metadata": {},
   "outputs": [],
   "source": []
  }
 ],
 "metadata": {
  "kernelspec": {
   "display_name": "RLA2Final",
   "language": "python",
   "name": "python3"
  },
  "language_info": {
   "codemirror_mode": {
    "name": "ipython",
    "version": 3
   },
   "file_extension": ".py",
   "mimetype": "text/x-python",
   "name": "python",
   "nbconvert_exporter": "python",
   "pygments_lexer": "ipython3",
   "version": "3.9.21"
  }
 },
 "nbformat": 4,
 "nbformat_minor": 5
}
