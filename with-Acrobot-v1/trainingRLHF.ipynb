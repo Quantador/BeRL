{
 "cells": [
  {
   "cell_type": "code",
   "execution_count": 2,
   "id": "4da3b598",
   "metadata": {},
   "outputs": [
    {
     "data": {
      "text/plain": [
       "device(type='cuda', index=0)"
      ]
     },
     "execution_count": 2,
     "metadata": {},
     "output_type": "execute_result"
    }
   ],
   "source": [
    "import gym\n",
    "import random, math\n",
    "import numpy as np\n",
    "from collections import deque\n",
    "import matplotlib.pyplot as plt\n",
    "plt.rcParams['figure.figsize'] = (16, 10)\n",
    "\n",
    "import torch\n",
    "import torch.nn as nn\n",
    "import torch.nn.functional as F\n",
    "import torch.optim as optim\n",
    "from torch.distributions import Categorical\n",
    "torch.manual_seed(0)\n",
    "\n",
    "import base64, io\n",
    "\n",
    "# For visualization\n",
    "from gym.wrappers.monitoring import video_recorder\n",
    "from IPython.display import HTML\n",
    "from IPython import display\n",
    "import glob\n",
    "from scripts.reinforce_PPORLHF import reinforce_rwd2go_PPO_RLHF\n",
    "from scripts.utils import pref_save, pref_load\n",
    "\n",
    "from scripts.model import getPolicy\n",
    "import pickle\n",
    "\n",
    "%load_ext autoreload\n",
    "%autoreload 2\n",
    "device = torch.device(\"cuda:0\" if torch.cuda.is_available() else \"cpu\")\n",
    "device"
   ]
  },
  {
   "cell_type": "code",
   "execution_count": 3,
   "id": "197cc64c",
   "metadata": {},
   "outputs": [
    {
     "name": "stderr",
     "output_type": "stream",
     "text": [
      "c:\\Users\\wahid\\anaconda3\\envs\\BeRL\\lib\\site-packages\\gym\\core.py:317: DeprecationWarning: \u001b[33mWARN: Initializing wrapper in old step API which returns one bool instead of two. It is recommended to set `new_step_api=True` to use new step API. This will be the default behaviour in future.\u001b[0m\n",
      "  deprecation(\n",
      "c:\\Users\\wahid\\anaconda3\\envs\\BeRL\\lib\\site-packages\\gym\\wrappers\\step_api_compatibility.py:39: DeprecationWarning: \u001b[33mWARN: Initializing environment in old step API which returns one bool instead of two. It is recommended to set `new_step_api=True` to use new step API. This will be the default behaviour in future.\u001b[0m\n",
      "  deprecation(\n"
     ]
    }
   ],
   "source": [
    "SEED=0\n",
    "torch.manual_seed(SEED)\n",
    "np.random.seed(SEED)\n",
    "random.seed(SEED)\n",
    "\n",
    "ENV_NAME = 'Acrobot-v1'\n",
    "\n",
    "env = gym.make(ENV_NAME)\n",
    "\n",
    "K = 100"
   ]
  },
  {
   "cell_type": "code",
   "execution_count": 4,
   "id": "f89fa4cf",
   "metadata": {},
   "outputs": [],
   "source": [
    "policy1 = getPolicy(ENV_NAME=ENV_NAME).to(device)\n",
    "policy1.load_state_dict(torch.load(f\"policies/policy1.pth\"))\n",
    "policy2 = getPolicy(ENV_NAME=ENV_NAME).to(device)\n",
    "policy2.load_state_dict(torch.load(f\"policies/policy2_with_mean.pth\"))\n",
    "\n",
    "pref_data = pref_load(f\"pref_data/pref_data_{K}_{ENV_NAME}.pickle\")"
   ]
  },
  {
   "cell_type": "code",
   "execution_count": 5,
   "id": "626f6b07",
   "metadata": {},
   "outputs": [],
   "source": [
    "class RewardModel(nn.Module):\n",
    "    def __init__(self, state_size=4, action_size=1, hidden_size=32):\n",
    "        super(RewardModel, self).__init__()\n",
    "        self.fc1 = nn.Linear(state_size + action_size, hidden_size)\n",
    "        self.fc2 = nn.Linear(hidden_size, 1)\n",
    "\n",
    "    def forward(self, state):\n",
    "        x = F.relu(self.fc1(state))\n",
    "        x = self.fc2(x)\n",
    "        return x\n",
    "\n",
    "    def predict_reward(self, state, action):\n",
    "        state = state\n",
    "        action = action\n",
    "        \n",
    "        state_action = torch.cat((state, action), dim=1)\n",
    "        reward = self.forward(state_action).cpu()\n",
    "        return reward"
   ]
  },
  {
   "cell_type": "code",
   "execution_count": 7,
   "id": "b9156624",
   "metadata": {},
   "outputs": [
    {
     "name": "stdout",
     "output_type": "stream",
     "text": [
      "Epoch 1/2 — avg loss: 37.8090\n",
      "Epoch 2/2 — avg loss: 25.4797\n"
     ]
    }
   ],
   "source": [
    "import torch\n",
    "import torch.nn.functional as F\n",
    "import copy\n",
    "\n",
    "lr        = 3e-3\n",
    "epochs    = 2\n",
    "\n",
    "reward_model = RewardModel(state_size=6, action_size=1).to(device)\n",
    "\n",
    "optimizer = torch.optim.Adam(reward_model.parameters(), lr=lr)\n",
    "\n",
    "def trajectory_reward(reward_model, states, actions):\n",
    "    total_reward = torch.tensor(0., device=device)\n",
    "    for s, a in zip(states, actions):\n",
    "        s_t = torch.tensor(s, dtype=torch.float32, device=device).unsqueeze(0)\n",
    "        a_t = torch.tensor(data=a, dtype=torch.float32, device=device).reshape(1, -1).to(device)\n",
    "        reward = reward_model.predict_reward(s_t, a_t).squeeze(0)\n",
    "        total_reward += reward.squeeze(0)\n",
    "    return total_reward\n",
    "\n",
    "for epoch in range(1, epochs+1):\n",
    "    total_loss = 0.0\n",
    "    \n",
    "    for s0, tau_plus, tau_minus in pref_data:\n",
    "\n",
    "        reward_plus = trajectory_reward(reward_model, tau_plus[\"states\"], tau_plus[\"actions\"])\n",
    "        reward_minus = trajectory_reward(reward_model, tau_minus[\"states\"], tau_minus[\"actions\"])\n",
    "        \n",
    "        stacked = torch.stack([reward_plus, reward_minus])\n",
    "        log_Z   = torch.logsumexp(stacked, dim=0)\n",
    "        total_loss += - (reward_plus - log_Z) \n",
    "\n",
    "    optimizer.zero_grad()\n",
    "    total_loss.backward()\n",
    "    optimizer.step()\n",
    "    \n",
    "    avg_loss = total_loss / len(pref_data)\n",
    "    \n",
    "    print(f\"Epoch {epoch}/{epochs} — avg loss: {avg_loss:.4f}\")"
   ]
  },
  {
   "cell_type": "code",
   "execution_count": 8,
   "id": "81224dad",
   "metadata": {},
   "outputs": [
    {
     "name": "stderr",
     "output_type": "stream",
     "text": [
      "c:\\Users\\wahid\\anaconda3\\envs\\BeRL\\lib\\site-packages\\gym\\utils\\passive_env_checker.py:241: DeprecationWarning: `np.bool8` is a deprecated alias for `np.bool_`.  (Deprecated NumPy 1.24)\n",
      "  if not isinstance(terminated, (bool, np.bool8)):\n"
     ]
    },
    {
     "name": "stdout",
     "output_type": "stream",
     "text": [
      "Ep 100\tavg100: -308.96\n",
      "Ep 200\tavg100: -394.24\n"
     ]
    },
    {
     "ename": "KeyboardInterrupt",
     "evalue": "",
     "output_type": "error",
     "traceback": [
      "\u001b[1;31m---------------------------------------------------------------------------\u001b[0m",
      "\u001b[1;31mKeyboardInterrupt\u001b[0m                         Traceback (most recent call last)",
      "Cell \u001b[1;32mIn[8], line 5\u001b[0m\n\u001b[0;32m      3\u001b[0m opt1    \u001b[38;5;241m=\u001b[39m optim\u001b[38;5;241m.\u001b[39mAdam(policy2\u001b[38;5;241m.\u001b[39mparameters(), lr\u001b[38;5;241m=\u001b[39m\u001b[38;5;241m1e-3\u001b[39m)\n\u001b[0;32m      4\u001b[0m reward_model\u001b[38;5;241m.\u001b[39meval()\n\u001b[1;32m----> 5\u001b[0m \u001b[43mreinforce_rwd2go_PPO_RLHF\u001b[49m\u001b[43m(\u001b[49m\u001b[43menv\u001b[49m\u001b[43m,\u001b[49m\u001b[43m \u001b[49m\u001b[43mpolicy2\u001b[49m\u001b[43m,\u001b[49m\u001b[43m \u001b[49m\u001b[43mopt1\u001b[49m\u001b[43m,\u001b[49m\u001b[43m \u001b[49m\u001b[43mreward_model\u001b[49m\u001b[43m,\u001b[49m\u001b[43m \u001b[49m\u001b[43mn_episodes\u001b[49m\u001b[38;5;241;43m=\u001b[39;49m\u001b[38;5;241;43m2000\u001b[39;49m\u001b[43m)\u001b[49m;\n",
      "File \u001b[1;32mc:\\Users\\wahid\\Desktop\\RL\\BeRL\\with-Acrobot-v1\\scripts\\reinforce_PPORLHF.py:42\u001b[0m, in \u001b[0;36mreinforce_rwd2go_PPO_RLHF\u001b[1;34m(env, policy, optimizer, reward_model, early_stop, n_episodes, max_t, gamma, print_every, target_reward)\u001b[0m\n\u001b[0;32m     40\u001b[0m state, reward_env, done, _ \u001b[38;5;241m=\u001b[39m env\u001b[38;5;241m.\u001b[39mstep(action)\n\u001b[0;32m     41\u001b[0m state_tensor \u001b[38;5;241m=\u001b[39m torch\u001b[38;5;241m.\u001b[39mfrom_numpy(state)\u001b[38;5;241m.\u001b[39munsqueeze(\u001b[38;5;241m0\u001b[39m)\u001b[38;5;241m.\u001b[39mto(device)\n\u001b[1;32m---> 42\u001b[0m action_tensor \u001b[38;5;241m=\u001b[39m \u001b[43mtorch\u001b[49m\u001b[38;5;241;43m.\u001b[39;49m\u001b[43mtensor\u001b[49m\u001b[43m(\u001b[49m\u001b[43m[\u001b[49m\u001b[43m[\u001b[49m\u001b[43maction\u001b[49m\u001b[43m]\u001b[49m\u001b[43m]\u001b[49m\u001b[43m,\u001b[49m\u001b[43m \u001b[49m\u001b[43mdtype\u001b[49m\u001b[38;5;241;43m=\u001b[39;49m\u001b[43mtorch\u001b[49m\u001b[38;5;241;43m.\u001b[39;49m\u001b[43mfloat32\u001b[49m\u001b[43m)\u001b[49m\u001b[38;5;241;43m.\u001b[39;49m\u001b[43mto\u001b[49m\u001b[43m(\u001b[49m\u001b[43mdevice\u001b[49m\u001b[43m)\u001b[49m\n\u001b[0;32m     43\u001b[0m reward \u001b[38;5;241m=\u001b[39m reward_model\u001b[38;5;241m.\u001b[39mpredict_reward(state_tensor, action_tensor)\u001b[38;5;241m.\u001b[39mitem()\n\u001b[0;32m     44\u001b[0m rewards\u001b[38;5;241m.\u001b[39mappend(reward)\n",
      "\u001b[1;31mKeyboardInterrupt\u001b[0m: "
     ]
    }
   ],
   "source": [
    "policy2 = getPolicy(ENV_NAME=ENV_NAME).to(device)\n",
    "policy2.load_state_dict(torch.load(\"policies/policy2_with_max.pth\"))\n",
    "opt1    = optim.Adam(policy2.parameters(), lr=1e-3)\n",
    "reward_model.eval()\n",
    "reinforce_rwd2go_PPO_RLHF(env, policy2, opt1, reward_model, n_episodes=2000);"
   ]
  },
  {
   "cell_type": "code",
   "execution_count": null,
   "id": "583481ec",
   "metadata": {},
   "outputs": [
    {
     "name": "stdout",
     "output_type": "stream",
     "text": [
      "Evaluation over 100 episodes: mean return = 200.00\n"
     ]
    }
   ],
   "source": [
    "returns = []\n",
    "eval_episodes = 100\n",
    "for ep in range(eval_episodes):\n",
    "    state, done, total_r = env.reset(), False, 0.0\n",
    "    while not done:\n",
    "        # choose greedy or stochastic—here greedy\n",
    "        with torch.no_grad():\n",
    "            s_t = torch.tensor(state, dtype=torch.float32, device=device)\n",
    "            probs = policy2(s_t.unsqueeze(0)).squeeze(0)\n",
    "            action = torch.argmax(probs).item()\n",
    "        state, r, done, _ = env.step(action)\n",
    "        total_r += r\n",
    "    returns.append(total_r)\n",
    "\n",
    "mean_return = sum(returns) / len(returns)\n",
    "print(f\"Evaluation over {eval_episodes} episodes: mean return = {mean_return:.2f}\")"
   ]
  }
 ],
 "metadata": {
  "kernelspec": {
   "display_name": "BeRL",
   "language": "python",
   "name": "python3"
  },
  "language_info": {
   "codemirror_mode": {
    "name": "ipython",
    "version": 3
   },
   "file_extension": ".py",
   "mimetype": "text/x-python",
   "name": "python",
   "nbconvert_exporter": "python",
   "pygments_lexer": "ipython3",
   "version": "3.10.17"
  }
 },
 "nbformat": 4,
 "nbformat_minor": 5
}
