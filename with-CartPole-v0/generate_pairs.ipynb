{
 "cells": [
  {
   "cell_type": "code",
   "execution_count": null,
   "id": "9709e6bd-2dae-4932-9ea3-1f38923550d8",
   "metadata": {},
   "outputs": [],
   "source": [
    "import gym\n",
    "import random, math\n",
    "import numpy as np\n",
    "from collections import deque\n",
    "import matplotlib.pyplot as plt\n",
    "plt.rcParams['figure.figsize'] = (16, 10)\n",
    "\n",
    "import torch\n",
    "import torch.optim as optim\n",
    "torch.manual_seed(0)\n",
    "\n",
    "from scripts.reinforce_rwd2go import make_pref_dataset\n",
    "from scripts.utils import pref_save\n",
    "\n",
    "from scripts.model import getPolicy\n",
    "from scripts.reinforce_rwd2go import reinforce_rwd2go_2\n",
    "\n",
    "%load_ext autoreload\n",
    "%autoreload 2\n",
    "\n",
    "device = torch.device(\"cuda:0\" if torch.cuda.is_available() else \"cpu\")\n",
    "device"
   ]
  },
  {
   "cell_type": "code",
   "execution_count": null,
   "id": "c450160f-f2d0-4cea-8f50-9a225ca96ce7",
   "metadata": {},
   "outputs": [],
   "source": [
    "SEED=0\n",
    "torch.manual_seed(SEED)\n",
    "np.random.seed(SEED)\n",
    "random.seed(SEED)\n",
    "\n",
    "ENV_NAME = 'CartPole-v0'\n",
    "\n",
    "env = gym.make(ENV_NAME)\n",
    "\n",
    "K = 10"
   ]
  },
  {
   "cell_type": "code",
   "execution_count": null,
   "id": "e11e45bf-5fdc-4924-bba2-d57c5e87d665",
   "metadata": {},
   "outputs": [],
   "source": [
    "policy = getPolicy(ENV_NAME=ENV_NAME).to(device)\n",
    "opt = optim.Adam(policy.parameters(), lr=1e-2)\n",
    "\n",
    "print(\"=== Training π₁ to get π₁ and π₂ ===\")\n",
    "scores, step_policy2_point, step_policy2_mean, step_policy2_both, step_policy1 = reinforce_rwd2go_2(env, policy, opt, n_episodes=2000, print_every=100, near_max_reward=195)"
   ]
  },
  {
   "cell_type": "code",
   "execution_count": null,
   "id": "b72601b4-65ca-4b34-ac73-8b6f7dfa9728",
   "metadata": {},
   "outputs": [],
   "source": [
    "import matplotlib.pyplot as plt\n",
    "\n",
    "def plot_rewards(scores, policy1_step=None, policy2_step_mean=None, policy2_step_point=None, policy2_step_both=None):\n",
    "    episodes = list(range(1, len(scores) + 1))\n",
    "\n",
    "    plt.figure()\n",
    "    plt.plot(episodes, scores)\n",
    "\n",
    "    if policy1_step is not None:\n",
    "        plt.axvline(policy1_step, color='red', linestyle='--', label=\"Policy 1 saved\")\n",
    "    if policy2_step_mean is not None:\n",
    "        plt.axvline(policy2_step_mean, color='green', linestyle='--', label=\"Policy 2 with mean saved\")\n",
    "    if policy2_step_point is not None:\n",
    "        plt.axvline(policy2_step_point, color='blue', linestyle='--', label=\"Policy 2 with current saved\")\n",
    "    if policy2_step_both is not None:\n",
    "        plt.axvline(policy2_step_both, color='orange', linestyle='--', label=\"Policy 2 with both saved\")\n",
    "    \n",
    "    plt.xlabel(\"Episode\")\n",
    "    plt.ylabel(\"Total Reward\")\n",
    "    plt.title(\"Rewards evolution per episode\")\n",
    "    plt.legend()\n",
    "    plt.tight_layout()\n",
    "    plt.savefig(f\"PoliciesGeneration_{ENV_NAME}.jpg\")\n",
    "    plt.show()\n",
    "\n",
    "plot_rewards(scores, policy1_step=step_policy1, policy2_step_mean=step_policy2_mean, policy2_step_point=step_policy2_point, policy2_step_both=step_policy2_both)"
   ]
  },
  {
   "cell_type": "code",
   "execution_count": null,
   "id": "cf692afa",
   "metadata": {},
   "outputs": [],
   "source": [
    "POLICY1_NAME = \"policies/policy1.pth\"\n",
    "POLICY2_NAME = \"policies/policy2_with_both.pth\""
   ]
  },
  {
   "cell_type": "code",
   "execution_count": null,
   "id": "4f0f73b1",
   "metadata": {},
   "outputs": [],
   "source": [
    "policy1 = getPolicy(ENV_NAME=ENV_NAME).to(device)\n",
    "policy1.load_state_dict(torch.load(POLICY1_NAME))\n",
    "\n",
    "policy2 = getPolicy(ENV_NAME=ENV_NAME).to(device)\n",
    "policy2.load_state_dict(torch.load(POLICY2_NAME))\n",
    "\n",
    "print(f\"Generating {K} preference pairs …\")\n",
    "pref_data = make_pref_dataset(policy1, policy2, env, K)\n",
    "pref_save(pref_data, f\"pref_data/pref_data_{K}_{ENV_NAME}.pickle\")\n",
    "print(\"Finished\")"
   ]
  },
  {
   "cell_type": "code",
   "execution_count": null,
   "id": "8b832db0",
   "metadata": {},
   "outputs": [],
   "source": []
  }
 ],
 "metadata": {
  "kernelspec": {
   "display_name": "RLA2Final",
   "language": "python",
   "name": "python3"
  },
  "language_info": {
   "codemirror_mode": {
    "name": "ipython",
    "version": 3
   },
   "file_extension": ".py",
   "mimetype": "text/x-python",
   "name": "python",
   "nbconvert_exporter": "python",
   "pygments_lexer": "ipython3",
   "version": "3.9.21"
  }
 },
 "nbformat": 4,
 "nbformat_minor": 5
}
