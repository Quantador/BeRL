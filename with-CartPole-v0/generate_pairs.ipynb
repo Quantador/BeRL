{
 "cells": [
  {
   "cell_type": "code",
   "execution_count": 3,
   "id": "9709e6bd-2dae-4932-9ea3-1f38923550d8",
   "metadata": {},
   "outputs": [
    {
     "data": {
      "text/plain": [
       "device(type='cpu')"
      ]
     },
     "execution_count": 3,
     "metadata": {},
     "output_type": "execute_result"
    }
   ],
   "source": [
    "import gym\n",
    "import random, math\n",
    "import numpy as np\n",
    "from collections import deque\n",
    "import matplotlib.pyplot as plt\n",
    "plt.rcParams['figure.figsize'] = (16, 10)\n",
    "\n",
    "import torch\n",
    "import torch.nn as nn\n",
    "import torch.nn.functional as F\n",
    "import torch.optim as optim\n",
    "from torch.distributions import Categorical\n",
    "torch.manual_seed(0)\n",
    "\n",
    "import base64, io\n",
    "\n",
    "# For visualization\n",
    "from gym.wrappers.monitoring import video_recorder\n",
    "from IPython.display import HTML\n",
    "from IPython import display\n",
    "import glob\n",
    "from scripts.reinforce_rwd2go import reinforce_rwd2go, rollout, make_pref_dataset\n",
    "from scripts.utils import pref_save, pref_load\n",
    "\n",
    "from scripts.model import getPolicy\n",
    "import pickle\n",
    "\n",
    "%load_ext autoreload\n",
    "%autoreload 2\n",
    "\n",
    "device = torch.device(\"cuda:0\" if torch.cuda.is_available() else \"cpu\")\n",
    "device"
   ]
  },
  {
   "cell_type": "code",
   "execution_count": 4,
   "id": "c450160f-f2d0-4cea-8f50-9a225ca96ce7",
   "metadata": {},
   "outputs": [
    {
     "name": "stderr",
     "output_type": "stream",
     "text": [
      "/opt/anaconda3/envs/mnlp_exercises/lib/python3.10/site-packages/gym/envs/registration.py:593: UserWarning: \u001b[33mWARN: The environment CartPole-v0 is out of date. You should consider upgrading to version `v1`.\u001b[0m\n",
      "  logger.warn(\n",
      "/opt/anaconda3/envs/mnlp_exercises/lib/python3.10/site-packages/gym/core.py:317: DeprecationWarning: \u001b[33mWARN: Initializing wrapper in old step API which returns one bool instead of two. It is recommended to set `new_step_api=True` to use new step API. This will be the default behaviour in future.\u001b[0m\n",
      "  deprecation(\n",
      "/opt/anaconda3/envs/mnlp_exercises/lib/python3.10/site-packages/gym/wrappers/step_api_compatibility.py:39: DeprecationWarning: \u001b[33mWARN: Initializing environment in old step API which returns one bool instead of two. It is recommended to set `new_step_api=True` to use new step API. This will be the default behaviour in future.\u001b[0m\n",
      "  deprecation(\n"
     ]
    }
   ],
   "source": [
    "SEED=0\n",
    "torch.manual_seed(SEED)\n",
    "np.random.seed(SEED)\n",
    "random.seed(SEED)\n",
    "\n",
    "ENV_NAME = 'CartPole-v0'\n",
    "\n",
    "env = gym.make(ENV_NAME)\n",
    "\n",
    "K = 1000"
   ]
  },
  {
   "cell_type": "code",
   "execution_count": 5,
   "id": "e11e45bf-5fdc-4924-bba2-d57c5e87d665",
   "metadata": {},
   "outputs": [
    {
     "ename": "ModuleNotFoundError",
     "evalue": "No module named 'reinforce_rwd2go'",
     "output_type": "error",
     "traceback": [
      "\u001b[0;31m---------------------------------------------------------------------------\u001b[0m",
      "\u001b[0;31mModuleNotFoundError\u001b[0m                       Traceback (most recent call last)",
      "Cell \u001b[0;32mIn[5], line 1\u001b[0m\n\u001b[0;32m----> 1\u001b[0m \u001b[38;5;28;01mfrom\u001b[39;00m \u001b[38;5;21;01mreinforce_rwd2go\u001b[39;00m \u001b[38;5;28;01mimport\u001b[39;00m reinforce_rwd2go_2\n\u001b[1;32m      3\u001b[0m policy \u001b[38;5;241m=\u001b[39m getPolicy(ENV_NAME\u001b[38;5;241m=\u001b[39mENV_NAME)\u001b[38;5;241m.\u001b[39mto(device)\n\u001b[1;32m      4\u001b[0m opt \u001b[38;5;241m=\u001b[39m optim\u001b[38;5;241m.\u001b[39mAdam(policy\u001b[38;5;241m.\u001b[39mparameters(), lr\u001b[38;5;241m=\u001b[39m\u001b[38;5;241m1e-2\u001b[39m)\n",
      "\u001b[0;31mModuleNotFoundError\u001b[0m: No module named 'reinforce_rwd2go'"
     ]
    }
   ],
   "source": [
    "from reinforce_rwd2go import reinforce_rwd2go_2\n",
    "\n",
    "policy = getPolicy(ENV_NAME=ENV_NAME).to(device)\n",
    "opt = optim.Adam(policy.parameters(), lr=1e-2)\n",
    "\n",
    "print(\"=== Training π₁ to get π₁ and π₂ ===\")\n",
    "scores, step_policy2_max, step_policy2_mean, step_policy1 = reinforce_rwd2go_2(env, policy, opt, env, n_episodes=2000, print_every=100, near_max_reward=195)\n"
   ]
  },
  {
   "cell_type": "code",
   "execution_count": 6,
   "id": "b72601b4-65ca-4b34-ac73-8b6f7dfa9728",
   "metadata": {},
   "outputs": [
    {
     "ename": "NameError",
     "evalue": "name 'scores' is not defined",
     "output_type": "error",
     "traceback": [
      "\u001b[0;31m---------------------------------------------------------------------------\u001b[0m",
      "\u001b[0;31mNameError\u001b[0m                                 Traceback (most recent call last)",
      "Cell \u001b[0;32mIn[6], line 23\u001b[0m\n\u001b[1;32m     20\u001b[0m     plt\u001b[38;5;241m.\u001b[39mtight_layout()\n\u001b[1;32m     21\u001b[0m     plt\u001b[38;5;241m.\u001b[39mshow()\n\u001b[0;32m---> 23\u001b[0m plot_rewards(\u001b[43mscores\u001b[49m, policy1_step\u001b[38;5;241m=\u001b[39mstep_policy1, policy2_step_mean\u001b[38;5;241m=\u001b[39mstep_policy2_mean, policy2_step_max\u001b[38;5;241m=\u001b[39mstep_policy2_max)\n",
      "\u001b[0;31mNameError\u001b[0m: name 'scores' is not defined"
     ]
    }
   ],
   "source": [
    "import matplotlib.pyplot as plt\n",
    "\n",
    "def plot_rewards(scores, window=100, figsize=(10, 6), policy1_step=None, policy2_step_mean=None, policy2_step_max=None):\n",
    "    episodes = list(range(1, len(scores) + 1))\n",
    "\n",
    "    plt.figure()\n",
    "    plt.plot(episodes, scores)\n",
    "\n",
    "    if policy1_step is not None:\n",
    "        plt.axvline(policy1_step, color='red', linestyle='--', label=\"Policy 1 saved\")\n",
    "    if policy2_step_mean is not None:\n",
    "        plt.axvline(policy2_step_mean, color='orange', linestyle='--', label=\"Policy 2 with mean saved\")\n",
    "    if policy2_step_max is not None:\n",
    "        plt.axvline(policy2_step_max, color='blue', linestyle='--', label=\"Policy 2 with max saved\")\n",
    "    \n",
    "    plt.xlabel(\"Episode\")\n",
    "    plt.ylabel(\"Total Reward\")\n",
    "    plt.title(\"Rewards evolution per episode\")\n",
    "    plt.legend()\n",
    "    plt.tight_layout()\n",
    "    plt.show()\n",
    "\n",
    "plot_rewards(scores, policy1_step=step_policy1, policy2_step_mean=step_policy2_mean, policy2_step_max=step_policy2_max)"
   ]
  },
  {
   "cell_type": "code",
   "execution_count": 28,
   "id": "abd6edb0-14da-4952-a38b-6a59961dcbb5",
   "metadata": {},
   "outputs": [
    {
     "data": {
      "text/plain": [
       "<All keys matched successfully>"
      ]
     },
     "execution_count": 28,
     "metadata": {},
     "output_type": "execute_result"
    }
   ],
   "source": [
    "policy1 = getPolicy(ENV_NAME=ENV_NAME).to(device)\n",
    "policy1.load_state_dict(torch.load(f\"policies/policy1.pth\"))\n",
    "policy2 = getPolicy(ENV_NAME=ENV_NAME).to(device)\n",
    "policy2.load_state_dict(torch.load(f\"policies/policy2_with_max.pth\"))"
   ]
  },
  {
   "cell_type": "code",
   "execution_count": 29,
   "id": "b50facd0-e8cb-49da-974b-fdd2e39477c0",
   "metadata": {},
   "outputs": [
    {
     "name": "stdout",
     "output_type": "stream",
     "text": [
      "Generating 100 preference pairs …\n",
      "Mean p1 196.68\n",
      "Mean p2 58.94\n",
      "Finished\n"
     ]
    }
   ],
   "source": [
    "K = 100\n",
    "print(f\"Generating {K} preference pairs …\")\n",
    "pref_data = make_pref_dataset(policy1, policy2, env, K)\n",
    "pref_save(pref_data, f\"pref_data/pref_data_{K}_{ENV_NAME}.pickle\")\n",
    "print(\"Finished\")"
   ]
  },
  {
   "cell_type": "code",
   "execution_count": null,
   "id": "c664cf88-81d9-498d-8ed1-6f4ba3b89763",
   "metadata": {},
   "outputs": [],
   "source": [
    "policy1 = getPolicy(ENV_NAME=ENV_NAME).to(device)\n",
    "opt1    = optim.Adam(policy1.parameters(), lr=1e-2)\n",
    "\n",
    "print(\"=== Training π₁ ===\")\n",
    "scores1 = reinforce_rwd2go(env, policy1, opt1, env,\n",
    "                            n_episodes=2000, print_every=100,\n",
    "                            target_reward=None, near_max_reward=195, gamma=0.95)\n",
    "avg1 = np.mean(scores1[-100:])\n",
    "print(f\"Final π₁ avg100: {avg1:.2f}\\n\")"
   ]
  },
  {
   "cell_type": "code",
   "execution_count": 62,
   "id": "97d0b847-fa94-4205-9790-895e2b2a1ee2",
   "metadata": {},
   "outputs": [
    {
     "name": "stdout",
     "output_type": "stream",
     "text": [
      "=== Training π₂ ===\n",
      "Ep 100\tavg100: 45.97\n",
      "Reached target 97.7 at ep 104 (avg=48.1)\n",
      "Final π₂ avg100: 48.11\n",
      "\n"
     ]
    }
   ],
   "source": [
    "policy2 = getPolicy(ENV_NAME=ENV_NAME).to(device)\n",
    "opt2    = optim.Adam(policy2.parameters(), lr=1e-2)\n",
    "half_target = avg1 / 2.0\n",
    "\n",
    "print(\"=== Training π₂ ===\")\n",
    "scores2 = reinforce_rwd2go(env, policy2, opt2, env,\n",
    "                            n_episodes=2000, print_every=100,\n",
    "                            target_reward=half_target, near_max_reward=195)\n",
    "avg2 = np.mean(scores2[-100:])\n",
    "print(f\"Final π₂ avg100: {avg2:.2f}\\n\")"
   ]
  },
  {
   "cell_type": "code",
   "execution_count": 63,
   "id": "3f3a1d41-bc28-4f2b-92d5-cfe7f32a56b0",
   "metadata": {},
   "outputs": [
    {
     "name": "stdout",
     "output_type": "stream",
     "text": [
      "Generating 1000 preference pairs …\n",
      "Mean p1 199.793\n",
      "Mean p2 72.225\n",
      "Finished\n"
     ]
    }
   ],
   "source": [
    "print(f\"Generating {K} preference pairs …\")\n",
    "pref_data = make_pref_dataset(policy1, policy2, env, K)\n",
    "pref_save(pref_data, f\"pref_data_{K}_{ENV_NAME}.pickle\")\n",
    "print(\"Finished\")\n",
    "\n",
    "torch.save(policy1.state_dict(), f\"policy1_{K}_{ENV_NAME}.pth\")\n",
    "torch.save(policy2.state_dict(), f\"policy2_{K}_{ENV_NAME}.pth\")"
   ]
  },
  {
   "cell_type": "code",
   "execution_count": null,
   "id": "85722a5c",
   "metadata": {},
   "outputs": [],
   "source": []
  },
  {
   "cell_type": "code",
   "execution_count": null,
   "id": "a31d63ca",
   "metadata": {},
   "outputs": [],
   "source": []
  }
 ],
 "metadata": {
  "kernelspec": {
   "display_name": "Python 3 (ipykernel)",
   "language": "python",
   "name": "python3"
  },
  "language_info": {
   "codemirror_mode": {
    "name": "ipython",
    "version": 3
   },
   "file_extension": ".py",
   "mimetype": "text/x-python",
   "name": "python",
   "nbconvert_exporter": "python",
   "pygments_lexer": "ipython3",
   "version": "3.10.11"
  }
 },
 "nbformat": 4,
 "nbformat_minor": 5
}
