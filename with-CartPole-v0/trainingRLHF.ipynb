{
 "cells": [
  {
   "cell_type": "code",
   "execution_count": 3,
   "id": "4da3b598",
   "metadata": {},
   "outputs": [
    {
     "name": "stdout",
     "output_type": "stream",
     "text": [
      "The autoreload extension is already loaded. To reload it, use:\n",
      "  %reload_ext autoreload\n"
     ]
    },
    {
     "data": {
      "text/plain": [
       "device(type='cpu')"
      ]
     },
     "execution_count": 3,
     "metadata": {},
     "output_type": "execute_result"
    }
   ],
   "source": [
    "import gym\n",
    "import random, math\n",
    "import numpy as np\n",
    "from collections import deque\n",
    "import matplotlib.pyplot as plt\n",
    "plt.rcParams['figure.figsize'] = (16, 10)\n",
    "\n",
    "import torch\n",
    "import torch.nn as nn\n",
    "import torch.nn.functional as F\n",
    "import torch.optim as optim\n",
    "from torch.distributions import Categorical\n",
    "torch.manual_seed(0)\n",
    "\n",
    "import base64, io\n",
    "\n",
    "# For visualization\n",
    "from gym.wrappers.monitoring import video_recorder\n",
    "from IPython.display import HTML\n",
    "from IPython import display\n",
    "import glob\n",
    "from scripts.reinforce_PPORLHF import reinforce_rwd2go_PPO_RLHF\n",
    "from scripts.utils import pref_save, pref_load\n",
    "\n",
    "from scripts.model import getPolicy\n",
    "import pickle\n",
    "\n",
    "%load_ext autoreload\n",
    "%autoreload 2\n",
    "device = torch.device(\"cuda:0\" if torch.cuda.is_available() else \"cpu\")\n",
    "device"
   ]
  },
  {
   "cell_type": "code",
   "execution_count": null,
   "id": "197cc64c",
   "metadata": {},
   "outputs": [
    {
     "name": "stdout",
     "output_type": "stream",
     "text": [
      "observation space size: (4,)\n",
      "action space size: 2\n"
     ]
    },
    {
     "name": "stderr",
     "output_type": "stream",
     "text": [
      "/Users/guillaumevitalis/miniconda3/envs/RLA2Final/lib/python3.9/site-packages/gym/envs/registration.py:593: UserWarning: \u001b[33mWARN: The environment CartPole-v0 is out of date. You should consider upgrading to version `v1`.\u001b[0m\n",
      "  logger.warn(\n",
      "/Users/guillaumevitalis/miniconda3/envs/RLA2Final/lib/python3.9/site-packages/gym/core.py:317: DeprecationWarning: \u001b[33mWARN: Initializing wrapper in old step API which returns one bool instead of two. It is recommended to set `new_step_api=True` to use new step API. This will be the default behaviour in future.\u001b[0m\n",
      "  deprecation(\n",
      "/Users/guillaumevitalis/miniconda3/envs/RLA2Final/lib/python3.9/site-packages/gym/wrappers/step_api_compatibility.py:39: DeprecationWarning: \u001b[33mWARN: Initializing environment in old step API which returns one bool instead of two. It is recommended to set `new_step_api=True` to use new step API. This will be the default behaviour in future.\u001b[0m\n",
      "  deprecation(\n"
     ]
    }
   ],
   "source": [
    "SEED=0\n",
    "torch.manual_seed(SEED)\n",
    "np.random.seed(SEED)\n",
    "random.seed(SEED)\n",
    "\n",
    "ENV_NAME = 'Pendulum-v1'\n",
    "\n",
    "env = gym.make(ENV_NAME)\n",
    "\n",
    "K = 1000"
   ]
  },
  {
   "cell_type": "code",
   "execution_count": 25,
   "id": "f89fa4cf",
   "metadata": {},
   "outputs": [],
   "source": [
    "policy1 = getPolicy(ENV_NAME=ENV_NAME).to(device)\n",
    "policy1.load_state_dict(torch.load(f\"policy1_{K}_{ENV_NAME}.pth\"))\n",
    "policy2 = getPolicy(ENV_NAME=ENV_NAME).to(device)\n",
    "policy2.load_state_dict(torch.load(f\"policy2_{K}_{ENV_NAME}.pth\"))\n",
    "\n",
    "pref_data = pref_load(f\"pref_data_{K}_{ENV_NAME}.pickle\")"
   ]
  },
  {
   "cell_type": "code",
   "execution_count": 26,
   "id": "626f6b07",
   "metadata": {},
   "outputs": [],
   "source": [
    "class RewardModel(nn.Module):\n",
    "    def __init__(self, state_size=4, action_size=1, hidden_size=32):\n",
    "        super(RewardModel, self).__init__()\n",
    "        self.fc1 = nn.Linear(state_size + action_size, hidden_size)\n",
    "        self.fc2 = nn.Linear(hidden_size, 1)\n",
    "\n",
    "    def forward(self, state):\n",
    "        x = F.relu(self.fc1(state))\n",
    "        x = self.fc2(x)\n",
    "        return x\n",
    "\n",
    "    def predict_reward(self, state, action):\n",
    "        state = state\n",
    "        action = torch.tensor(action).reshape(1,1)  \n",
    "        \n",
    "        state_action = torch.cat((state, action), dim=1)\n",
    "        reward = self.forward(state_action).cpu()\n",
    "        return reward"
   ]
  },
  {
   "cell_type": "code",
   "execution_count": 27,
   "id": "b9156624",
   "metadata": {},
   "outputs": [
    {
     "name": "stdout",
     "output_type": "stream",
     "text": [
      "Epoch 1/10 — avg loss: 11.9466\n",
      "Epoch 2/10 — avg loss: 8.5590\n",
      "Epoch 3/10 — avg loss: 5.3510\n",
      "Epoch 4/10 — avg loss: 2.8022\n",
      "Epoch 5/10 — avg loss: 1.2287\n",
      "Epoch 6/10 — avg loss: 0.4961\n",
      "Epoch 7/10 — avg loss: 0.2259\n",
      "Epoch 8/10 — avg loss: 0.1191\n",
      "Epoch 9/10 — avg loss: 0.0682\n",
      "Epoch 10/10 — avg loss: 0.0396\n"
     ]
    }
   ],
   "source": [
    "import torch\n",
    "import torch.nn.functional as F\n",
    "import copy\n",
    "\n",
    "lr        = 3e-3\n",
    "epochs    = 10\n",
    "\n",
    "reward_model = RewardModel(state_size=4, action_size=1)\n",
    "\n",
    "optimizer = torch.optim.Adam(reward_model.parameters(), lr=lr)\n",
    "\n",
    "def trajectory_reward(reward_model, states, actions):\n",
    "    total_reward = torch.tensor(0., device=device)\n",
    "    for s, a in zip(states, actions):\n",
    "        s_t = torch.tensor(s, dtype=torch.float32, device=device)\n",
    "        reward = reward_model.predict_reward(s_t.unsqueeze(0), a).squeeze(0)\n",
    "        total_reward += reward.squeeze(0)\n",
    "    return total_reward\n",
    "\n",
    "for epoch in range(1, epochs+1):\n",
    "    total_loss = 0.0\n",
    "    \n",
    "    for s0, tau_plus, tau_minus in pref_data:\n",
    "\n",
    "        reward_plus = trajectory_reward(reward_model, tau_plus[\"states\"], tau_plus[\"actions\"])\n",
    "        reward_minus = trajectory_reward(reward_model, tau_minus[\"states\"], tau_minus[\"actions\"])\n",
    "        total_loss += - torch.log(torch.exp(reward_plus) / (torch.exp(reward_minus) + torch.exp(reward_plus)))\n",
    "\n",
    "    optimizer.zero_grad()\n",
    "    total_loss.backward()\n",
    "    optimizer.step()\n",
    "    \n",
    "    avg_loss = total_loss / len(pref_data)\n",
    "    \n",
    "    print(f\"Epoch {epoch}/{epochs} — avg loss: {avg_loss:.4f}\")"
   ]
  },
  {
   "cell_type": "code",
   "execution_count": 28,
   "id": "81224dad",
   "metadata": {},
   "outputs": [
    {
     "name": "stderr",
     "output_type": "stream",
     "text": [
      "/Users/guillaumevitalis/miniconda3/envs/RLA2Final/lib/python3.9/site-packages/gym/utils/passive_env_checker.py:241: DeprecationWarning: `np.bool8` is a deprecated alias for `np.bool_`.  (Deprecated NumPy 1.24)\n",
      "  if not isinstance(terminated, (bool, np.bool8)):\n"
     ]
    },
    {
     "name": "stdout",
     "output_type": "stream",
     "text": [
      "Ep 100\tavg100: 71.72\n",
      "Ep 200\tavg100: 75.56\n",
      "Ep 300\tavg100: 80.45\n",
      "Ep 400\tavg100: 81.71\n",
      "Ep 500\tavg100: 89.27\n",
      "Ep 600\tavg100: 124.07\n",
      "Ep 700\tavg100: 152.19\n",
      "Ep 800\tavg100: 172.60\n",
      "Ep 900\tavg100: 169.34\n",
      "Ep 1000\tavg100: 176.95\n",
      "Ep 1100\tavg100: 178.01\n",
      "Ep 1200\tavg100: 160.78\n",
      "Ep 1300\tavg100: 189.67\n",
      "Ep 1400\tavg100: 183.10\n",
      "Ep 1500\tavg100: 175.11\n",
      "Ep 1600\tavg100: 179.82\n",
      "Ep 1700\tavg100: 175.63\n",
      "Ep 1800\tavg100: 186.14\n",
      "Ep 1900\tavg100: 188.72\n"
     ]
    }
   ],
   "source": [
    "policy2 = getPolicy(ENV_NAME=ENV_NAME).to(device)\n",
    "policy2.load_state_dict(torch.load(f\"policy2_{K}_{ENV_NAME}.pth\"))\n",
    "opt1    = optim.Adam(policy2.parameters(), lr=1e-3)\n",
    "reward_model.eval()\n",
    "reinforce_rwd2go_PPO_RLHF(env, policy2, opt1, reward_model, n_episodes=2000);"
   ]
  },
  {
   "cell_type": "code",
   "execution_count": 29,
   "id": "583481ec",
   "metadata": {},
   "outputs": [
    {
     "name": "stdout",
     "output_type": "stream",
     "text": [
      "Evaluation over 100 episodes: mean return = 200.00\n"
     ]
    }
   ],
   "source": [
    "returns = []\n",
    "eval_episodes = 100\n",
    "for ep in range(eval_episodes):\n",
    "    state, done, total_r = env.reset(), False, 0.0\n",
    "    while not done:\n",
    "        # choose greedy or stochastic—here greedy\n",
    "        with torch.no_grad():\n",
    "            s_t = torch.tensor(state, dtype=torch.float32, device=device)\n",
    "            probs = policy2(s_t.unsqueeze(0)).squeeze(0)\n",
    "            action = torch.argmax(probs).item()\n",
    "        state, r, done, _ = env.step(action)\n",
    "        total_r += r\n",
    "    returns.append(total_r)\n",
    "\n",
    "mean_return = sum(returns) / len(returns)\n",
    "print(f\"Evaluation over {eval_episodes} episodes: mean return = {mean_return:.2f}\")"
   ]
  },
  {
   "cell_type": "code",
   "execution_count": null,
   "id": "7d8104f9",
   "metadata": {},
   "outputs": [],
   "source": []
  }
 ],
 "metadata": {
  "kernelspec": {
   "display_name": "Python 3 (ipykernel)",
   "language": "python",
   "name": "python3"
  },
  "language_info": {
   "codemirror_mode": {
    "name": "ipython",
    "version": 3
   },
   "file_extension": ".py",
   "mimetype": "text/x-python",
   "name": "python",
   "nbconvert_exporter": "python",
   "pygments_lexer": "ipython3",
   "version": "3.10.11"
  }
 },
 "nbformat": 4,
 "nbformat_minor": 5
}
