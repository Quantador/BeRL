{
 "cells": [
  {
   "cell_type": "code",
   "execution_count": null,
   "id": "93ca109f-1305-44f2-8b0b-b8862d650a98",
   "metadata": {},
   "outputs": [
    {
     "name": "stdout",
     "output_type": "stream",
     "text": [
      "Eval num_timesteps=5000, episode_reward=77.62 +/- 0.79\n",
      "Episode length: 299.20 +/- 3.97\n",
      "New best mean reward!\n",
      "Eval num_timesteps=10000, episode_reward=-99.90 +/- 0.00\n",
      "Episode length: 999.00 +/- 0.00\n",
      "Eval num_timesteps=15000, episode_reward=-99.90 +/- 0.00\n",
      "Episode length: 999.00 +/- 0.00\n",
      "Eval num_timesteps=20000, episode_reward=90.82 +/- 0.12\n",
      "Episode length: 102.20 +/- 1.17\n",
      "New best mean reward!\n"
     ]
    }
   ],
   "source": [
    "from email import policy\n",
    "import gym\n",
    "from platformdirs import user_desktop_dir\n",
    "from stable_baselines3 import PPO\n",
    "from stable_baselines3.common.env_util import make_vec_env\n",
    "from stable_baselines3.common.callbacks import CheckpointCallback, EvalCallback\n",
    "\n",
    "\n",
    "def main():\n",
    "    env = make_vec_env('MountainCarContinuous-v0', n_envs=1)\n",
    "\n",
    "    model = PPO(\n",
    "        policy='MlpPolicy',\n",
    "        env=env,\n",
    "        n_steps=8,\n",
    "        gae_lambda=0.9,\n",
    "        gamma=0.9999,\n",
    "        batch_size= 256,\n",
    "        n_epochs=10,\n",
    "        ent_coef=0.00429,\n",
    "        clip_range= 0.1,\n",
    "        max_grad_norm= 5,\n",
    "        vf_coef= 0.19,\n",
    "        use_sde= True\n",
    "    )\n",
    "\n",
    "    # save a checkpoint every 10k steps\n",
    "    checkpoint_callback = CheckpointCallback(\n",
    "        save_freq=10000,\n",
    "        save_path='./policies/',\n",
    "        name_prefix='ppo_mountain_ctn'\n",
    "    )\n",
    "\n",
    "    eval_env = gym.make('MountainCarContinuous-v0', new_step_api=True)\n",
    "    eval_callback = EvalCallback(\n",
    "        eval_env,\n",
    "        best_model_save_path='./best_model/',\n",
    "        log_path='./eval_logs/',\n",
    "        eval_freq=5000,\n",
    "        deterministic=True,\n",
    "        render=False\n",
    "    )\n",
    "\n",
    "    total_timesteps = 20_000\n",
    "    model.learn(\n",
    "        total_timesteps=total_timesteps,\n",
    "        callback=[checkpoint_callback, eval_callback]\n",
    "    )\n",
    "\n",
    "    model.save('./policies/ppo_mountain_ctn_final')\n",
    "\n",
    "    return checkpoint_callback, eval_callback, model, env\n",
    "\n",
    "\n",
    "if __name__ == '__main__':\n",
    "    checkpoint_cb, eval_cb, trained_model, env = main()\n"
   ]
  },
  {
   "cell_type": "code",
   "execution_count": null,
   "id": "ea015dfd-8ef5-43fa-ad3e-db9a2b632a9f",
   "metadata": {},
   "outputs": [],
   "source": [
    "policy1 = PPO.load('./policies/ppo_mountain_ctn_final')"
   ]
  },
  {
   "cell_type": "code",
   "execution_count": null,
   "id": "f52dd0bb-9e00-45a4-beb1-bd2d0e27961c",
   "metadata": {},
   "outputs": [],
   "source": [
    "policy2 = PPO.load('./policies/ppo_mountain_ctn_10000_steps')"
   ]
  },
  {
   "cell_type": "code",
   "execution_count": 23,
   "id": "f24bbf5b-66b2-41a5-8aeb-612a1c188cfe",
   "metadata": {},
   "outputs": [],
   "source": [
    "def rollout(policy_model, env, seed, max_t=1000):\n",
    "    obs = env.reset(seed=seed)\n",
    "    # If env.reset() returns tuple (obs, info), unpack:\n",
    "    if isinstance(obs, tuple):\n",
    "        obs = obs[0]\n",
    "    traj = {\"states\": [], \"actions\": [], \"rewards\": [], \"total_reward\": 0}\n",
    "\n",
    "    for _ in range(max_t):\n",
    "        action, _ = policy_model.predict(obs, deterministic=True)  # Use model.predict()\n",
    "        traj[\"states\"].append(obs)\n",
    "        traj[\"actions\"].append(action)\n",
    "\n",
    "        step_result = env.step(action)\n",
    "        # Support new gym API returning 5 values:\n",
    "        if len(step_result) == 5:\n",
    "            obs, reward, done, truncated, info = step_result\n",
    "            done = done or truncated\n",
    "        else:\n",
    "            obs, reward, done, info = step_result\n",
    "\n",
    "        traj[\"rewards\"].append(reward)\n",
    "        traj[\"total_reward\"] += reward\n",
    "        if done:\n",
    "            break\n",
    "    return traj\n"
   ]
  },
  {
   "cell_type": "code",
   "execution_count": 25,
   "id": "c993de3b-2d31-4692-8182-11d618c683bd",
   "metadata": {},
   "outputs": [],
   "source": [
    "def make_pref_dataset(pi1, pi2, env, K=1000):\n",
    "    data = []\n",
    "    rewards_p1 = []\n",
    "    rewards_p2 = []\n",
    "    for _ in range(K):\n",
    "        seed = random.randint(0, 10000000)\n",
    "        tau_1, tau_2 = rollout(pi1, env, seed), rollout(pi2, env, seed)\n",
    "        r1, r2 = tau_1[\"total_reward\"], tau_2[\"total_reward\"]\n",
    "        rewards_p1.append(r1), rewards_p2.append(r2),\n",
    "        p1 = math.exp(r1) / (math.exp(r1) + math.exp(r2))\n",
    "\n",
    "        initial_state = tau_1[\"states\"][0]\n",
    "\n",
    "        if random.random() < p1:\n",
    "            data.append((initial_state, tau_1, tau_2))\n",
    "        else:\n",
    "            data.append((initial_state, tau_2, tau_1))\n",
    "\n",
    "    print(\"Mean p1\", np.mean(rewards_p1))\n",
    "    print(\"Mean p2\", np.mean(rewards_p2))\n",
    "    return data"
   ]
  },
  {
   "cell_type": "code",
   "execution_count": 3,
   "id": "515bfd02-fcc9-4ad7-a1fd-3381ada00a3e",
   "metadata": {},
   "outputs": [],
   "source": [
    "import random, math\n",
    "import numpy as np\n",
    "from utils import pref_save, pref_load\n",
    "import torch\n",
    "device = torch.device(\"cuda:0\" if torch.cuda.is_available() else \"cpu\")\n",
    "import torch.nn.functional as F"
   ]
  },
  {
   "cell_type": "code",
   "execution_count": 103,
   "id": "90c28612-8e71-4950-a938-7225f7f1823f",
   "metadata": {},
   "outputs": [
    {
     "name": "stdout",
     "output_type": "stream",
     "text": [
      "Generating 100 preference pairs …\n",
      "Mean p1 90.80465787488896\n",
      "Mean p2 -99.89999999999856\n",
      "Finished\n"
     ]
    }
   ],
   "source": [
    "K = 100\n",
    "ENV_NAME = 'MountainCarContinuous-v0'\n",
    "\n",
    "env = gym.make(ENV_NAME)\n",
    "\n",
    "print(f\"Generating {K} preference pairs …\")\n",
    "pref_data = make_pref_dataset(policy1, policy2, env, K)\n",
    "pref_save(pref_data, f\"pref_data_{K}_{ENV_NAME}.pickle\")\n",
    "print(\"Finished\")\n",
    "\n",
    "torch.save(policy1.policy.state_dict(), f\"policy1_{K}_{ENV_NAME}.pth\")\n",
    "torch.save(policy2.policy.state_dict(), f\"policy2_{K}_{ENV_NAME}.pth\")"
   ]
  }
 ],
 "metadata": {
  "kernelspec": {
   "display_name": "Python 3 (ipykernel)",
   "language": "python",
   "name": "python3"
  },
  "language_info": {
   "codemirror_mode": {
    "name": "ipython",
    "version": 3
   },
   "file_extension": ".py",
   "mimetype": "text/x-python",
   "name": "python",
   "nbconvert_exporter": "python",
   "pygments_lexer": "ipython3",
   "version": "3.12.4"
  }
 },
 "nbformat": 4,
 "nbformat_minor": 5
}
